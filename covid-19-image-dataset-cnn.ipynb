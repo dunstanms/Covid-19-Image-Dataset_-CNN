{
 "cells": [
  {
   "cell_type": "code",
   "execution_count": 1,
   "id": "68162ed8",
   "metadata": {
    "execution": {
     "iopub.execute_input": "2024-04-12T09:22:53.792966Z",
     "iopub.status.busy": "2024-04-12T09:22:53.792513Z",
     "iopub.status.idle": "2024-04-12T09:22:53.805771Z",
     "shell.execute_reply": "2024-04-12T09:22:53.804732Z"
    },
    "papermill": {
     "duration": 0.027469,
     "end_time": "2024-04-12T09:22:53.808206",
     "exception": false,
     "start_time": "2024-04-12T09:22:53.780737",
     "status": "completed"
    },
    "tags": []
   },
   "outputs": [],
   "source": [
    "train_dir = \"/kaggle/input/covid19-image-dataset/Covid19-dataset/train\"\n",
    "test_dir = \"/kaggle/input/covid19-image-dataset/Covid19-dataset/test\""
   ]
  },
  {
   "cell_type": "code",
   "execution_count": 2,
   "id": "482b598b",
   "metadata": {
    "execution": {
     "iopub.execute_input": "2024-04-12T09:22:53.828015Z",
     "iopub.status.busy": "2024-04-12T09:22:53.827551Z",
     "iopub.status.idle": "2024-04-12T09:23:08.127382Z",
     "shell.execute_reply": "2024-04-12T09:23:08.126140Z"
    },
    "papermill": {
     "duration": 14.31283,
     "end_time": "2024-04-12T09:23:08.130254",
     "exception": false,
     "start_time": "2024-04-12T09:22:53.817424",
     "status": "completed"
    },
    "tags": []
   },
   "outputs": [
    {
     "name": "stderr",
     "output_type": "stream",
     "text": [
      "2024-04-12 09:22:55.783239: E external/local_xla/xla/stream_executor/cuda/cuda_dnn.cc:9261] Unable to register cuDNN factory: Attempting to register factory for plugin cuDNN when one has already been registered\n",
      "2024-04-12 09:22:55.783375: E external/local_xla/xla/stream_executor/cuda/cuda_fft.cc:607] Unable to register cuFFT factory: Attempting to register factory for plugin cuFFT when one has already been registered\n",
      "2024-04-12 09:22:55.919530: E external/local_xla/xla/stream_executor/cuda/cuda_blas.cc:1515] Unable to register cuBLAS factory: Attempting to register factory for plugin cuBLAS when one has already been registered\n"
     ]
    }
   ],
   "source": [
    "import numpy as np\n",
    "import tensorflow as tf\n",
    "from tensorflow.keras.preprocessing.image import ImageDataGenerator\n",
    "from tensorflow.keras.models import Sequential\n",
    "from tensorflow.keras.layers import Conv2D, MaxPool2D, Flatten, Dense\n",
    "import os\n",
    "import warnings\n",
    "warnings.filterwarnings(\"ignore\")"
   ]
  },
  {
   "cell_type": "code",
   "execution_count": 3,
   "id": "87a05352",
   "metadata": {
    "execution": {
     "iopub.execute_input": "2024-04-12T09:23:08.151135Z",
     "iopub.status.busy": "2024-04-12T09:23:08.150029Z",
     "iopub.status.idle": "2024-04-12T09:23:08.155293Z",
     "shell.execute_reply": "2024-04-12T09:23:08.154070Z"
    },
    "papermill": {
     "duration": 0.018415,
     "end_time": "2024-04-12T09:23:08.158001",
     "exception": false,
     "start_time": "2024-04-12T09:23:08.139586",
     "status": "completed"
    },
    "tags": []
   },
   "outputs": [],
   "source": [
    "img_width, img_height = 512, 512"
   ]
  },
  {
   "cell_type": "code",
   "execution_count": 4,
   "id": "dde88808",
   "metadata": {
    "execution": {
     "iopub.execute_input": "2024-04-12T09:23:08.177585Z",
     "iopub.status.busy": "2024-04-12T09:23:08.177181Z",
     "iopub.status.idle": "2024-04-12T09:23:08.182193Z",
     "shell.execute_reply": "2024-04-12T09:23:08.181215Z"
    },
    "papermill": {
     "duration": 0.017601,
     "end_time": "2024-04-12T09:23:08.184605",
     "exception": false,
     "start_time": "2024-04-12T09:23:08.167004",
     "status": "completed"
    },
    "tags": []
   },
   "outputs": [],
   "source": [
    "batch_size = 32"
   ]
  },
  {
   "cell_type": "code",
   "execution_count": 5,
   "id": "71553d05",
   "metadata": {
    "execution": {
     "iopub.execute_input": "2024-04-12T09:23:08.203833Z",
     "iopub.status.busy": "2024-04-12T09:23:08.203467Z",
     "iopub.status.idle": "2024-04-12T09:23:08.208597Z",
     "shell.execute_reply": "2024-04-12T09:23:08.207556Z"
    },
    "papermill": {
     "duration": 0.017013,
     "end_time": "2024-04-12T09:23:08.210660",
     "exception": false,
     "start_time": "2024-04-12T09:23:08.193647",
     "status": "completed"
    },
    "tags": []
   },
   "outputs": [],
   "source": [
    "train_dataset = ImageDataGenerator(\n",
    "    rescale=1. / 255,\n",
    "    rotation_range=20,\n",
    "    width_shift_range=0.2,\n",
    "    height_shift_range=0.2,\n",
    "    shear_range=0.2,\n",
    "    zoom_range=0.2,\n",
    "    horizontal_flip=True\n",
    ")"
   ]
  },
  {
   "cell_type": "code",
   "execution_count": 6,
   "id": "565079a4",
   "metadata": {
    "execution": {
     "iopub.execute_input": "2024-04-12T09:23:08.229251Z",
     "iopub.status.busy": "2024-04-12T09:23:08.228891Z",
     "iopub.status.idle": "2024-04-12T09:23:08.233310Z",
     "shell.execute_reply": "2024-04-12T09:23:08.232293Z"
    },
    "papermill": {
     "duration": 0.016356,
     "end_time": "2024-04-12T09:23:08.235443",
     "exception": false,
     "start_time": "2024-04-12T09:23:08.219087",
     "status": "completed"
    },
    "tags": []
   },
   "outputs": [],
   "source": [
    "test_dataset = ImageDataGenerator(rescale=1./255)"
   ]
  },
  {
   "cell_type": "code",
   "execution_count": 7,
   "id": "b6b7cacb",
   "metadata": {
    "execution": {
     "iopub.execute_input": "2024-04-12T09:23:08.254219Z",
     "iopub.status.busy": "2024-04-12T09:23:08.253872Z",
     "iopub.status.idle": "2024-04-12T09:23:08.316701Z",
     "shell.execute_reply": "2024-04-12T09:23:08.315555Z"
    },
    "papermill": {
     "duration": 0.075373,
     "end_time": "2024-04-12T09:23:08.319639",
     "exception": false,
     "start_time": "2024-04-12T09:23:08.244266",
     "status": "completed"
    },
    "tags": []
   },
   "outputs": [
    {
     "name": "stdout",
     "output_type": "stream",
     "text": [
      "Found 251 images belonging to 3 classes.\n"
     ]
    }
   ],
   "source": [
    "X_train = train_dataset.flow_from_directory(\n",
    "    train_dir,\n",
    "    target_size=(img_width, img_height),\n",
    "    batch_size=batch_size,\n",
    "    class_mode=\"categorical\"\n",
    ")"
   ]
  },
  {
   "cell_type": "code",
   "execution_count": 8,
   "id": "4ac525c3",
   "metadata": {
    "execution": {
     "iopub.execute_input": "2024-04-12T09:23:08.339284Z",
     "iopub.status.busy": "2024-04-12T09:23:08.338567Z",
     "iopub.status.idle": "2024-04-12T09:23:08.367201Z",
     "shell.execute_reply": "2024-04-12T09:23:08.366384Z"
    },
    "papermill": {
     "duration": 0.040857,
     "end_time": "2024-04-12T09:23:08.369468",
     "exception": false,
     "start_time": "2024-04-12T09:23:08.328611",
     "status": "completed"
    },
    "tags": []
   },
   "outputs": [
    {
     "name": "stdout",
     "output_type": "stream",
     "text": [
      "Found 66 images belonging to 3 classes.\n"
     ]
    }
   ],
   "source": [
    "X_test = test_dataset.flow_from_directory(\n",
    "    test_dir,\n",
    "    target_size=(img_width, img_height),\n",
    "    batch_size=batch_size,\n",
    "    class_mode=\"categorical\"\n",
    ")"
   ]
  },
  {
   "cell_type": "code",
   "execution_count": 9,
   "id": "4b95530a",
   "metadata": {
    "execution": {
     "iopub.execute_input": "2024-04-12T09:23:08.388539Z",
     "iopub.status.busy": "2024-04-12T09:23:08.387786Z",
     "iopub.status.idle": "2024-04-12T09:23:09.205612Z",
     "shell.execute_reply": "2024-04-12T09:23:09.204391Z"
    },
    "papermill": {
     "duration": 0.830956,
     "end_time": "2024-04-12T09:23:09.208809",
     "exception": false,
     "start_time": "2024-04-12T09:23:08.377853",
     "status": "completed"
    },
    "tags": []
   },
   "outputs": [],
   "source": [
    "model = Sequential([\n",
    "    Conv2D(32, (3, 3), activation=\"relu\", input_shape=(img_width, img_height, 3)),\n",
    "    MaxPool2D((2, 2)),\n",
    "    Conv2D(64, (3, 3), activation=\"relu\"),\n",
    "    MaxPool2D((2, 2)),\n",
    "    Conv2D(128, (3, 3), activation=\"relu\"),\n",
    "    MaxPool2D((2, 2)),\n",
    "    Conv2D(128, (3, 3), activation=\"relu\"),\n",
    "    MaxPool2D((2, 2)),\n",
    "    Flatten(),\n",
    "    Dense(512, activation=\"relu\"),\n",
    "    Dense(256, activation=\"relu\"),\n",
    "    Dense(3, activation=\"softmax\")\n",
    "])"
   ]
  },
  {
   "cell_type": "code",
   "execution_count": 10,
   "id": "7edf2a89",
   "metadata": {
    "execution": {
     "iopub.execute_input": "2024-04-12T09:23:09.249363Z",
     "iopub.status.busy": "2024-04-12T09:23:09.248966Z",
     "iopub.status.idle": "2024-04-12T09:23:09.269014Z",
     "shell.execute_reply": "2024-04-12T09:23:09.268102Z"
    },
    "papermill": {
     "duration": 0.033698,
     "end_time": "2024-04-12T09:23:09.271578",
     "exception": false,
     "start_time": "2024-04-12T09:23:09.237880",
     "status": "completed"
    },
    "tags": []
   },
   "outputs": [],
   "source": [
    "model.compile(optimizer=\"adam\", loss=\"categorical_crossentropy\", metrics=[\"accuracy\"])"
   ]
  },
  {
   "cell_type": "code",
   "execution_count": 11,
   "id": "81ba18ca",
   "metadata": {
    "execution": {
     "iopub.execute_input": "2024-04-12T09:23:09.293373Z",
     "iopub.status.busy": "2024-04-12T09:23:09.292406Z",
     "iopub.status.idle": "2024-04-12T10:22:30.989159Z",
     "shell.execute_reply": "2024-04-12T10:22:30.988036Z"
    },
    "papermill": {
     "duration": 3561.71095,
     "end_time": "2024-04-12T10:22:30.991743",
     "exception": false,
     "start_time": "2024-04-12T09:23:09.280793",
     "status": "completed"
    },
    "tags": []
   },
   "outputs": [
    {
     "name": "stdout",
     "output_type": "stream",
     "text": [
      "Epoch 1/30\n",
      "8/8 [==============================] - 110s 13s/step - loss: 3.5947 - accuracy: 0.4303 - val_loss: 1.0557 - val_accuracy: 0.4394\n",
      "Epoch 2/30\n",
      "8/8 [==============================] - 106s 13s/step - loss: 0.8173 - accuracy: 0.6414 - val_loss: 1.4903 - val_accuracy: 0.5455\n",
      "Epoch 3/30\n",
      "8/8 [==============================] - 106s 13s/step - loss: 0.6130 - accuracy: 0.7450 - val_loss: 1.3994 - val_accuracy: 0.6515\n",
      "Epoch 4/30\n",
      "8/8 [==============================] - 107s 13s/step - loss: 0.6268 - accuracy: 0.7410 - val_loss: 1.1454 - val_accuracy: 0.6364\n",
      "Epoch 5/30\n",
      "8/8 [==============================] - 107s 13s/step - loss: 0.5348 - accuracy: 0.7769 - val_loss: 0.9534 - val_accuracy: 0.6364\n",
      "Epoch 6/30\n",
      "8/8 [==============================] - 107s 13s/step - loss: 0.4564 - accuracy: 0.8127 - val_loss: 1.5122 - val_accuracy: 0.5000\n",
      "Epoch 7/30\n",
      "8/8 [==============================] - 107s 13s/step - loss: 0.4447 - accuracy: 0.8127 - val_loss: 0.9425 - val_accuracy: 0.6212\n",
      "Epoch 8/30\n",
      "8/8 [==============================] - 106s 13s/step - loss: 0.4765 - accuracy: 0.8207 - val_loss: 0.5935 - val_accuracy: 0.7576\n",
      "Epoch 9/30\n",
      "8/8 [==============================] - 102s 12s/step - loss: 0.5030 - accuracy: 0.8048 - val_loss: 0.9919 - val_accuracy: 0.6515\n",
      "Epoch 10/30\n",
      "8/8 [==============================] - 97s 12s/step - loss: 0.5163 - accuracy: 0.7888 - val_loss: 0.9015 - val_accuracy: 0.6818\n",
      "Epoch 11/30\n",
      "8/8 [==============================] - 97s 12s/step - loss: 0.4487 - accuracy: 0.8008 - val_loss: 0.9451 - val_accuracy: 0.7424\n",
      "Epoch 12/30\n",
      "8/8 [==============================] - 94s 11s/step - loss: 0.3580 - accuracy: 0.8526 - val_loss: 1.1161 - val_accuracy: 0.7879\n",
      "Epoch 13/30\n",
      "8/8 [==============================] - 95s 11s/step - loss: 0.4211 - accuracy: 0.8486 - val_loss: 0.6713 - val_accuracy: 0.7879\n",
      "Epoch 14/30\n",
      "8/8 [==============================] - 95s 11s/step - loss: 0.3998 - accuracy: 0.8406 - val_loss: 0.5192 - val_accuracy: 0.7576\n",
      "Epoch 15/30\n",
      "8/8 [==============================] - 96s 12s/step - loss: 0.4587 - accuracy: 0.7968 - val_loss: 0.6227 - val_accuracy: 0.7273\n",
      "Epoch 16/30\n",
      "8/8 [==============================] - 96s 12s/step - loss: 0.3853 - accuracy: 0.8526 - val_loss: 0.7038 - val_accuracy: 0.7576\n",
      "Epoch 17/30\n",
      "8/8 [==============================] - 96s 12s/step - loss: 0.5023 - accuracy: 0.8367 - val_loss: 0.7045 - val_accuracy: 0.7576\n",
      "Epoch 18/30\n",
      "8/8 [==============================] - 96s 12s/step - loss: 0.3649 - accuracy: 0.8406 - val_loss: 0.4689 - val_accuracy: 0.7879\n",
      "Epoch 19/30\n",
      "8/8 [==============================] - 96s 12s/step - loss: 0.3976 - accuracy: 0.8367 - val_loss: 0.5366 - val_accuracy: 0.8333\n",
      "Epoch 20/30\n",
      "8/8 [==============================] - 96s 12s/step - loss: 0.2980 - accuracy: 0.8884 - val_loss: 0.5199 - val_accuracy: 0.8182\n",
      "Epoch 21/30\n",
      "8/8 [==============================] - 96s 12s/step - loss: 0.3453 - accuracy: 0.8685 - val_loss: 0.7529 - val_accuracy: 0.7121\n",
      "Epoch 22/30\n",
      "8/8 [==============================] - 95s 12s/step - loss: 0.2520 - accuracy: 0.9084 - val_loss: 0.7038 - val_accuracy: 0.7576\n",
      "Epoch 23/30\n",
      "8/8 [==============================] - 95s 11s/step - loss: 0.2446 - accuracy: 0.8964 - val_loss: 1.3213 - val_accuracy: 0.4394\n",
      "Epoch 24/30\n",
      "8/8 [==============================] - 94s 11s/step - loss: 0.4397 - accuracy: 0.8367 - val_loss: 0.4618 - val_accuracy: 0.8030\n",
      "Epoch 25/30\n",
      "8/8 [==============================] - 94s 11s/step - loss: 0.3364 - accuracy: 0.8486 - val_loss: 0.6462 - val_accuracy: 0.7273\n",
      "Epoch 26/30\n",
      "8/8 [==============================] - 94s 11s/step - loss: 0.2707 - accuracy: 0.9203 - val_loss: 0.9315 - val_accuracy: 0.6061\n",
      "Epoch 27/30\n",
      "8/8 [==============================] - 95s 11s/step - loss: 0.3160 - accuracy: 0.8805 - val_loss: 0.9008 - val_accuracy: 0.7121\n",
      "Epoch 28/30\n",
      "8/8 [==============================] - 95s 11s/step - loss: 0.2087 - accuracy: 0.9323 - val_loss: 0.6809 - val_accuracy: 0.7727\n",
      "Epoch 29/30\n",
      "8/8 [==============================] - 94s 11s/step - loss: 0.3229 - accuracy: 0.8805 - val_loss: 0.6841 - val_accuracy: 0.7273\n",
      "Epoch 30/30\n",
      "8/8 [==============================] - 95s 11s/step - loss: 0.2451 - accuracy: 0.8964 - val_loss: 0.4349 - val_accuracy: 0.8333\n"
     ]
    }
   ],
   "source": [
    "history = model.fit(X_train, epochs=30, validation_data=X_test)"
   ]
  },
  {
   "cell_type": "code",
   "execution_count": 12,
   "id": "7a770370",
   "metadata": {
    "execution": {
     "iopub.execute_input": "2024-04-12T10:22:31.065621Z",
     "iopub.status.busy": "2024-04-12T10:22:31.064460Z",
     "iopub.status.idle": "2024-04-12T10:22:31.069762Z",
     "shell.execute_reply": "2024-04-12T10:22:31.069039Z"
    },
    "papermill": {
     "duration": 0.044449,
     "end_time": "2024-04-12T10:22:31.071839",
     "exception": false,
     "start_time": "2024-04-12T10:22:31.027390",
     "status": "completed"
    },
    "tags": []
   },
   "outputs": [],
   "source": [
    "import matplotlib.pyplot as plt"
   ]
  },
  {
   "cell_type": "code",
   "execution_count": 13,
   "id": "be6c316e",
   "metadata": {
    "execution": {
     "iopub.execute_input": "2024-04-12T10:22:31.143371Z",
     "iopub.status.busy": "2024-04-12T10:22:31.142668Z",
     "iopub.status.idle": "2024-04-12T10:22:31.402984Z",
     "shell.execute_reply": "2024-04-12T10:22:31.402037Z"
    },
    "papermill": {
     "duration": 0.299078,
     "end_time": "2024-04-12T10:22:31.405718",
     "exception": false,
     "start_time": "2024-04-12T10:22:31.106640",
     "status": "completed"
    },
    "tags": []
   },
   "outputs": [
    {
     "data": {
      "image/png": "[encoded data removed]",
      "text/plain": [
       "<Figure size 640x480 with 1 Axes>"
      ]
     },
     "metadata": {},
     "output_type": "display_data"
    }
   ],
   "source": [
    "plt.plot(history.history[\"accuracy\"])\n",
    "plt.plot(history.history[\"val_accuracy\"])\n",
    "plt.title(\"Model Accuracy\")\n",
    "plt.xlabel(\"Epochs\")\n",
    "plt.ylabel(\"Accuracy\")\n",
    "plt.legend([\"Train\", \"Validation\"])\n",
    "plt.show()"
   ]
  },
  {
   "cell_type": "code",
   "execution_count": 14,
   "id": "559d2a78",
   "metadata": {
    "execution": {
     "iopub.execute_input": "2024-04-12T10:22:31.480668Z",
     "iopub.status.busy": "2024-04-12T10:22:31.480255Z",
     "iopub.status.idle": "2024-04-12T10:22:31.727259Z",
     "shell.execute_reply": "2024-04-12T10:22:31.726025Z"
    },
    "papermill": {
     "duration": 0.287006,
     "end_time": "2024-04-12T10:22:31.729410",
     "exception": false,
     "start_time": "2024-04-12T10:22:31.442404",
     "status": "completed"
    },
    "tags": []
   },
   "outputs": [
    {
     "data": {
      "image/png": "[encoded data removed]",
      "text/plain": [
       "<Figure size 640x480 with 1 Axes>"
      ]
     },
     "metadata": {},
     "output_type": "display_data"
    }
   ],
   "source": [
    "plt.plot(history.history[\"loss\"])\n",
    "plt.plot(history.history[\"val_loss\"])\n",
    "plt.title(\"Model Loss\")\n",
    "plt.xlabel(\"Epochs\")\n",
    "plt.ylabel(\"Loss\")\n",
    "plt.legend([\"Train\", \"Validation\"])\n",
    "plt.show()"
   ]
  },
  {
   "cell_type": "code",
   "execution_count": 15,
   "id": "fb2c0ae3",
   "metadata": {
    "execution": {
     "iopub.execute_input": "2024-04-12T10:22:31.803623Z",
     "iopub.status.busy": "2024-04-12T10:22:31.803217Z",
     "iopub.status.idle": "2024-04-12T10:22:31.807974Z",
     "shell.execute_reply": "2024-04-12T10:22:31.806919Z"
    },
    "papermill": {
     "duration": 0.044309,
     "end_time": "2024-04-12T10:22:31.810000",
     "exception": false,
     "start_time": "2024-04-12T10:22:31.765691",
     "status": "completed"
    },
    "tags": []
   },
   "outputs": [],
   "source": [
    "class_labels = X_train.class_indices"
   ]
  },
  {
   "cell_type": "code",
   "execution_count": 16,
   "id": "ee91d2e9",
   "metadata": {
    "execution": {
     "iopub.execute_input": "2024-04-12T10:22:31.884762Z",
     "iopub.status.busy": "2024-04-12T10:22:31.884377Z",
     "iopub.status.idle": "2024-04-12T10:22:31.889962Z",
     "shell.execute_reply": "2024-04-12T10:22:31.888861Z"
    },
    "papermill": {
     "duration": 0.045163,
     "end_time": "2024-04-12T10:22:31.892058",
     "exception": false,
     "start_time": "2024-04-12T10:22:31.846895",
     "status": "completed"
    },
    "tags": []
   },
   "outputs": [
    {
     "name": "stdout",
     "output_type": "stream",
     "text": [
      "Class Names: {0: 'Covid', 1: 'Normal', 2: 'Viral Pneumonia'}\n"
     ]
    }
   ],
   "source": [
    "class_names = {value: key for key, value in class_labels.items()}\n",
    "print(\"Class Names:\", class_names)"
   ]
  },
  {
   "cell_type": "code",
   "execution_count": 17,
   "id": "46710659",
   "metadata": {
    "execution": {
     "iopub.execute_input": "2024-04-12T10:22:31.964874Z",
     "iopub.status.busy": "2024-04-12T10:22:31.964499Z",
     "iopub.status.idle": "2024-04-12T10:22:31.968799Z",
     "shell.execute_reply": "2024-04-12T10:22:31.968119Z"
    },
    "papermill": {
     "duration": 0.042638,
     "end_time": "2024-04-12T10:22:31.970653",
     "exception": false,
     "start_time": "2024-04-12T10:22:31.928015",
     "status": "completed"
    },
    "tags": []
   },
   "outputs": [],
   "source": [
    "from tensorflow.keras.preprocessing import image"
   ]
  },
  {
   "cell_type": "code",
   "execution_count": 18,
   "id": "c4184e4b",
   "metadata": {
    "execution": {
     "iopub.execute_input": "2024-04-12T10:22:32.044460Z",
     "iopub.status.busy": "2024-04-12T10:22:32.044051Z",
     "iopub.status.idle": "2024-04-12T10:22:32.048541Z",
     "shell.execute_reply": "2024-04-12T10:22:32.047596Z"
    },
    "papermill": {
     "duration": 0.043086,
     "end_time": "2024-04-12T10:22:32.050599",
     "exception": false,
     "start_time": "2024-04-12T10:22:32.007513",
     "status": "completed"
    },
    "tags": []
   },
   "outputs": [],
   "source": [
    "img_path = \"/kaggle/input/covid19-image-dataset/Covid19-dataset/test/Covid/0106.jpeg\""
   ]
  },
  {
   "cell_type": "code",
   "execution_count": 19,
   "id": "6f6c7162",
   "metadata": {
    "execution": {
     "iopub.execute_input": "2024-04-12T10:22:32.124631Z",
     "iopub.status.busy": "2024-04-12T10:22:32.124277Z",
     "iopub.status.idle": "2024-04-12T10:22:32.136205Z",
     "shell.execute_reply": "2024-04-12T10:22:32.135464Z"
    },
    "papermill": {
     "duration": 0.0523,
     "end_time": "2024-04-12T10:22:32.138436",
     "exception": false,
     "start_time": "2024-04-12T10:22:32.086136",
     "status": "completed"
    },
    "tags": []
   },
   "outputs": [],
   "source": [
    "img = image.load_img(img_path, target_size=(img_width, img_height))"
   ]
  },
  {
   "cell_type": "code",
   "execution_count": 20,
   "id": "0e21cf14",
   "metadata": {
    "execution": {
     "iopub.execute_input": "2024-04-12T10:22:32.214120Z",
     "iopub.status.busy": "2024-04-12T10:22:32.213751Z",
     "iopub.status.idle": "2024-04-12T10:22:32.219457Z",
     "shell.execute_reply": "2024-04-12T10:22:32.218456Z"
    },
    "papermill": {
     "duration": 0.045703,
     "end_time": "2024-04-12T10:22:32.221471",
     "exception": false,
     "start_time": "2024-04-12T10:22:32.175768",
     "status": "completed"
    },
    "tags": []
   },
   "outputs": [],
   "source": [
    "img_arr = image.img_to_array(img)"
   ]
  },
  {
   "cell_type": "code",
   "execution_count": 21,
   "id": "5b30ce72",
   "metadata": {
    "execution": {
     "iopub.execute_input": "2024-04-12T10:22:32.296903Z",
     "iopub.status.busy": "2024-04-12T10:22:32.295938Z",
     "iopub.status.idle": "2024-04-12T10:22:32.300738Z",
     "shell.execute_reply": "2024-04-12T10:22:32.299777Z"
    },
    "papermill": {
     "duration": 0.044643,
     "end_time": "2024-04-12T10:22:32.302928",
     "exception": false,
     "start_time": "2024-04-12T10:22:32.258285",
     "status": "completed"
    },
    "tags": []
   },
   "outputs": [],
   "source": [
    "img_arr = np.expand_dims(img_arr, axis=0)"
   ]
  },
  {
   "cell_type": "code",
   "execution_count": 22,
   "id": "0130183a",
   "metadata": {
    "execution": {
     "iopub.execute_input": "2024-04-12T10:22:32.378437Z",
     "iopub.status.busy": "2024-04-12T10:22:32.378014Z",
     "iopub.status.idle": "2024-04-12T10:22:32.382432Z",
     "shell.execute_reply": "2024-04-12T10:22:32.381704Z"
    },
    "papermill": {
     "duration": 0.044596,
     "end_time": "2024-04-12T10:22:32.384433",
     "exception": false,
     "start_time": "2024-04-12T10:22:32.339837",
     "status": "completed"
    },
    "tags": []
   },
   "outputs": [],
   "source": [
    "img_arr = img_arr / 255.0"
   ]
  },
  {
   "cell_type": "code",
   "execution_count": 23,
   "id": "96af8c2e",
   "metadata": {
    "execution": {
     "iopub.execute_input": "2024-04-12T10:22:32.460205Z",
     "iopub.status.busy": "2024-04-12T10:22:32.459514Z",
     "iopub.status.idle": "2024-04-12T10:22:32.750993Z",
     "shell.execute_reply": "2024-04-12T10:22:32.750187Z"
    },
    "papermill": {
     "duration": 0.331908,
     "end_time": "2024-04-12T10:22:32.752948",
     "exception": false,
     "start_time": "2024-04-12T10:22:32.421040",
     "status": "completed"
    },
    "tags": []
   },
   "outputs": [
    {
     "name": "stdout",
     "output_type": "stream",
     "text": [
      "1/1 [==============================] - 0s 230ms/step\n"
     ]
    }
   ],
   "source": [
    "pred = model.predict(img_arr)"
   ]
  },
  {
   "cell_type": "code",
   "execution_count": 24,
   "id": "07a0f012",
   "metadata": {
    "execution": {
     "iopub.execute_input": "2024-04-12T10:22:32.829895Z",
     "iopub.status.busy": "2024-04-12T10:22:32.829514Z",
     "iopub.status.idle": "2024-04-12T10:22:32.833790Z",
     "shell.execute_reply": "2024-04-12T10:22:32.832755Z"
    },
    "papermill": {
     "duration": 0.046299,
     "end_time": "2024-04-12T10:22:32.835830",
     "exception": false,
     "start_time": "2024-04-12T10:22:32.789531",
     "status": "completed"
    },
    "tags": []
   },
   "outputs": [],
   "source": [
    "pred_class = np.argmax(pred)"
   ]
  },
  {
   "cell_type": "code",
   "execution_count": 25,
   "id": "86bf943c",
   "metadata": {
    "execution": {
     "iopub.execute_input": "2024-04-12T10:22:32.911501Z",
     "iopub.status.busy": "2024-04-12T10:22:32.911140Z",
     "iopub.status.idle": "2024-04-12T10:22:32.917162Z",
     "shell.execute_reply": "2024-04-12T10:22:32.916139Z"
    },
    "papermill": {
     "duration": 0.046517,
     "end_time": "2024-04-12T10:22:32.919493",
     "exception": false,
     "start_time": "2024-04-12T10:22:32.872976",
     "status": "completed"
    },
    "tags": []
   },
   "outputs": [
    {
     "data": {
      "text/plain": [
       "'Covid'"
      ]
     },
     "execution_count": 25,
     "metadata": {},
     "output_type": "execute_result"
    }
   ],
   "source": [
    "class_names[pred_class]"
   ]
  },
  {
   "cell_type": "code",
   "execution_count": null,
   "id": "bd76b37c",
   "metadata": {
    "papermill": {
     "duration": 0.036973,
     "end_time": "2024-04-12T10:22:32.993622",
     "exception": false,
     "start_time": "2024-04-12T10:22:32.956649",
     "status": "completed"
    },
    "tags": []
   },
   "outputs": [],
   "source": []
  }
 ],
 "metadata": {
  "kaggle": {
   "accelerator": "none",
   "dataSources": [
    {
     "datasetId": 627146,
     "sourceId": 1117472,
     "sourceType": "datasetVersion"
    }
   ],
   "dockerImageVersionId": 30646,
   "isGpuEnabled": false,
   "isInternetEnabled": false,
   "language": "python",
   "sourceType": "notebook"
  },
  "kernelspec": {
   "display_name": "Python 3",
   "language": "python",
   "name": "python3"
  },
  "language_info": {
   "codemirror_mode": {
    "name": "ipython",
    "version": 3
   },
   "file_extension": ".py",
   "mimetype": "text/x-python",
   "name": "python",
   "nbconvert_exporter": "python",
   "pygments_lexer": "ipython3",
   "version": "3.10.13"
  },
  "papermill": {
   "default_parameters": {},
   "duration": 3583.855028,
   "end_time": "2024-04-12T10:22:34.663347",
   "environment_variables": {},
   "exception": null,
   "input_path": "__notebook__.ipynb",
   "output_path": "__notebook__.ipynb",
   "parameters": {},
   "start_time": "2024-04-12T09:22:50.808319",
   "version": "2.5.0"
  }
 },
 "nbformat": 4,
 "nbformat_minor": 5
}
